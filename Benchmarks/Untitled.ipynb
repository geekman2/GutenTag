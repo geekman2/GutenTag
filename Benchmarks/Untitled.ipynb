{
 "cells": [
  {
   "cell_type": "markdown",
   "metadata": {},
   "source": [
    "# langid vs NLTK language identification benchmarks"
   ]
  },
  {
   "cell_type": "code",
   "execution_count": 3,
   "metadata": {
    "collapsed": false
   },
   "outputs": [],
   "source": [
    "from WordVectors.lnFilter import is_english_langid,is_english_nltk\n",
    "english_long = open(\"bin/long_text_eng.txt\",\"r\").read()\n",
    "french_long = open(\"bin/long_text_fre.txt\",\"r\").read()\n",
    "test_sentences = [\"I dig my hole you build a wall\",\n",
    "                  \"Je creuse mon trou vous construisez un mur\",\n",
    "                  english_long,french_long]"
   ]
  },
  {
   "cell_type": "code",
   "execution_count": 4,
   "metadata": {
    "collapsed": false
   },
   "outputs": [
    {
     "name": "stdout",
     "output_type": "stream",
     "text": [
      "The slowest run took 8021.08 times longer than the fastest. This could mean that an intermediate result is being cached.\n",
      "1 loop, best of 3: 231 µs per loop\n"
     ]
    }
   ],
   "source": [
    "%timeit is_english_langid(test_sentences[0])"
   ]
  },
  {
   "cell_type": "code",
   "execution_count": 5,
   "metadata": {
    "collapsed": false
   },
   "outputs": [
    {
     "name": "stdout",
     "output_type": "stream",
     "text": [
      "The slowest run took 37.89 times longer than the fastest. This could mean that an intermediate result is being cached.\n",
      "100000 loops, best of 3: 4.11 µs per loop\n"
     ]
    }
   ],
   "source": [
    "%timeit is_english_nltk(test_sentences[0])"
   ]
  },
  {
   "cell_type": "code",
   "execution_count": 6,
   "metadata": {
    "collapsed": false
   },
   "outputs": [
    {
     "name": "stdout",
     "output_type": "stream",
     "text": [
      "1000 loops, best of 3: 203 µs per loop\n"
     ]
    }
   ],
   "source": [
    "%timeit is_english_langid(test_sentences[1])"
   ]
  },
  {
   "cell_type": "code",
   "execution_count": 7,
   "metadata": {
    "collapsed": false
   },
   "outputs": [
    {
     "name": "stdout",
     "output_type": "stream",
     "text": [
      "The slowest run took 4.57 times longer than the fastest. This could mean that an intermediate result is being cached.\n",
      "100000 loops, best of 3: 4.32 µs per loop\n"
     ]
    }
   ],
   "source": [
    "%timeit is_english_nltk(test_sentences[1])"
   ]
  },
  {
   "cell_type": "code",
   "execution_count": 8,
   "metadata": {
    "collapsed": false
   },
   "outputs": [
    {
     "name": "stdout",
     "output_type": "stream",
     "text": [
      "100 loops, best of 3: 4.71 ms per loop\n"
     ]
    }
   ],
   "source": [
    "%timeit is_english_langid(test_sentences[2])"
   ]
  },
  {
   "cell_type": "code",
   "execution_count": 9,
   "metadata": {
    "collapsed": false
   },
   "outputs": [
    {
     "name": "stdout",
     "output_type": "stream",
     "text": [
      "1000 loops, best of 3: 517 µs per loop\n"
     ]
    }
   ],
   "source": [
    "%timeit is_english_nltk(test_sentences[2])"
   ]
  },
  {
   "cell_type": "code",
   "execution_count": 10,
   "metadata": {
    "collapsed": false
   },
   "outputs": [
    {
     "name": "stdout",
     "output_type": "stream",
     "text": [
      "100 loops, best of 3: 5.65 ms per loop\n"
     ]
    }
   ],
   "source": [
    "%timeit is_english_langid(test_sentences[3])"
   ]
  },
  {
   "cell_type": "code",
   "execution_count": 11,
   "metadata": {
    "collapsed": false
   },
   "outputs": [
    {
     "name": "stdout",
     "output_type": "stream",
     "text": [
      "1000 loops, best of 3: 630 µs per loop\n"
     ]
    }
   ],
   "source": [
    "%timeit is_english_nltk(test_sentences[3])"
   ]
  },
  {
   "cell_type": "markdown",
   "metadata": {},
   "source": [
    "As shown above, `nltk` is over 1000 times faster than `langid`, and shows more consistency in it's timing"
   ]
  },
  {
   "cell_type": "code",
   "execution_count": null,
   "metadata": {
    "collapsed": true
   },
   "outputs": [],
   "source": []
  }
 ],
 "metadata": {
  "kernelspec": {
   "display_name": "Python 2",
   "language": "python",
   "name": "python2"
  },
  "language_info": {
   "codemirror_mode": {
    "name": "ipython",
    "version": 2
   },
   "file_extension": ".py",
   "mimetype": "text/x-python",
   "name": "python",
   "nbconvert_exporter": "python",
   "pygments_lexer": "ipython2",
   "version": "2.7.12"
  }
 },
 "nbformat": 4,
 "nbformat_minor": 0
}
