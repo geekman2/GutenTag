{
 "cells": [
  {
   "cell_type": "markdown",
   "metadata": {},
   "source": [
    "# langid vs NLTK language identification benchmarks"
   ]
  },
  {
   "cell_type": "code",
   "execution_count": 1,
   "metadata": {},
   "outputs": [],
   "source": [
    "from __future__ import absolute_import\n",
    "from WordVectors.lnFilter import is_english_langid,is_english_nltk\n",
    "english_long = open(\"bin/long_text_eng.txt\",\"r\").read()\n",
    "french_long = open(\"bin/long_text_fre.txt\",\"r\").read()\n",
    "test_sentences = [\"I dig my hole you build a wall\",\n",
    "                  \"Je creuse mon trou vous construisez un mur\",\n",
    "                  english_long,french_long]"
   ]
  },
  {
   "cell_type": "code",
   "execution_count": 2,
   "metadata": {},
   "outputs": [
    {
     "name": "stdout",
     "output_type": "stream",
     "text": [
      "The slowest run took 11512.51 times longer than the fastest. This could mean that an intermediate result is being cached.\n",
      "1 loop, best of 3: 167 µs per loop\n"
     ]
    }
   ],
   "source": [
    "%timeit is_english_langid(test_sentences[0])"
   ]
  },
  {
   "cell_type": "code",
   "execution_count": 3,
   "metadata": {},
   "outputs": [
    {
     "name": "stdout",
     "output_type": "stream",
     "text": [
      "The slowest run took 46.43 times longer than the fastest. This could mean that an intermediate result is being cached.\n",
      "100000 loops, best of 3: 4.71 µs per loop\n"
     ]
    }
   ],
   "source": [
    "%timeit is_english_nltk(test_sentences[0])"
   ]
  },
  {
   "cell_type": "code",
   "execution_count": 4,
   "metadata": {},
   "outputs": [
    {
     "name": "stdout",
     "output_type": "stream",
     "text": [
      "10000 loops, best of 3: 183 µs per loop\n"
     ]
    }
   ],
   "source": [
    "%timeit is_english_langid(test_sentences[1])"
   ]
  },
  {
   "cell_type": "code",
   "execution_count": 5,
   "metadata": {},
   "outputs": [
    {
     "name": "stdout",
     "output_type": "stream",
     "text": [
      "100000 loops, best of 3: 4.32 µs per loop\n"
     ]
    }
   ],
   "source": [
    "%timeit is_english_nltk(test_sentences[1])"
   ]
  },
  {
   "cell_type": "code",
   "execution_count": 6,
   "metadata": {},
   "outputs": [
    {
     "name": "stdout",
     "output_type": "stream",
     "text": [
      "100 loops, best of 3: 4.47 ms per loop\n"
     ]
    }
   ],
   "source": [
    "%timeit is_english_langid(test_sentences[2])"
   ]
  },
  {
   "cell_type": "code",
   "execution_count": 7,
   "metadata": {},
   "outputs": [
    {
     "name": "stdout",
     "output_type": "stream",
     "text": [
      "1000 loops, best of 3: 520 µs per loop\n"
     ]
    }
   ],
   "source": [
    "%timeit is_english_nltk(test_sentences[2])"
   ]
  },
  {
   "cell_type": "code",
   "execution_count": 8,
   "metadata": {},
   "outputs": [
    {
     "name": "stdout",
     "output_type": "stream",
     "text": [
      "100 loops, best of 3: 5.7 ms per loop\n"
     ]
    }
   ],
   "source": [
    "%timeit is_english_langid(test_sentences[3])"
   ]
  },
  {
   "cell_type": "code",
   "execution_count": 9,
   "metadata": {},
   "outputs": [
    {
     "name": "stdout",
     "output_type": "stream",
     "text": [
      "1000 loops, best of 3: 640 µs per loop\n"
     ]
    }
   ],
   "source": [
    "%timeit is_english_nltk(test_sentences[3])"
   ]
  },
  {
   "cell_type": "markdown",
   "metadata": {},
   "source": [
    "As shown above, `nltk` is over 1000 times faster than `langid`, and shows more consistency in it's timing"
   ]
  },
  {
   "cell_type": "code",
   "execution_count": null,
   "metadata": {},
   "outputs": [],
   "source": [
    ""
   ]
  }
 ],
 "metadata": {
  "kernelspec": {
   "display_name": "Python 2",
   "language": "python",
   "name": "python2"
  },
  "language_info": {
   "codemirror_mode": {
    "name": "ipython",
    "version": 2.0
   },
   "file_extension": ".py",
   "mimetype": "text/x-python",
   "name": "python",
   "nbconvert_exporter": "python",
   "pygments_lexer": "ipython2",
   "version": "2.7.12"
  }
 },
 "nbformat": 4,
 "nbformat_minor": 0
}