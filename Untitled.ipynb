{
 "cells": [
  {
   "cell_type": "code",
   "execution_count": 1,
   "metadata": {
    "collapsed": false
   },
   "outputs": [],
   "source": [
    "import pymongo\n",
    "import pandas as pd\n",
    "import numpy as np \n",
    "from IPython.display import display\n",
    "from sklearn.cluster import KMeans \n",
    "from scipy.spatial.distance import cityblock\n",
    "db_client = pymongo.MongoClient('mongodb://localhost:27017')\n",
    "\n",
    "random_seed = np.random.seed(1791)\n",
    "examples = db_client.test\n",
    "docs = list(examples.grams.find({\"trigram_frequency\":{\"$exists\":True}}))\n",
    "df = pd.DataFrame()\n",
    "all_keys = set()"
   ]
  },
  {
   "cell_type": "code",
   "execution_count": 23,
   "metadata": {
    "collapsed": false,
    "scrolled": false
   },
   "outputs": [
    {
     "name": "stdout",
     "output_type": "stream",
     "text": [
      "NUMBER OF UNIQUE TRIGRAMS 50754\n",
      "NON-ZERO FREQUENCY TRIGRAM COUNT: 2577305\n"
     ]
    }
   ],
   "source": [
    "for d in docs:\n",
    "    all_keys.update(d['trigram_frequency'].keys())\n",
    "\n",
    "print \"NUMBER OF UNIQUE TRIGRAMS\",len(all_keys)\n",
    "\n",
    "stuffs = []\n",
    "for i,doc in enumerate(docs):\n",
    "    _id = doc[\"_id\"]\n",
    "    frequency = doc[\"trigram_frequency\"]\n",
    "    stuff = {trigram: round(frequency[trigram]*10000,3) if trigram in frequency else 0. for trigram in all_keys}\n",
    "    stuff[\"_id\"] =  _id\n",
    "    stuffs.append(stuff)\n",
    "\n",
    "count = 0\n",
    "for j in stuffs:\n",
    "    for k in j:\n",
    "        if j[k] != 0:\n",
    "            count += 1\n",
    "\n",
    "print \"NON-ZERO FREQUENCY TRIGRAM COUNT:\",count\n",
    "\n",
    "data = pd.DataFrame(stuffs)"
   ]
  },
  {
   "cell_type": "code",
   "execution_count": 22,
   "metadata": {
    "collapsed": false
   },
   "outputs": [
    {
     "data": {
      "text/plain": [
       "0       57956d053fa175869480923a\n",
       "1       57956d053fa175869480923b\n",
       "2       57956d053fa175869480923c\n",
       "3       57956d053fa175869480923d\n",
       "4       57956d053fa175869480923e\n",
       "5       57956d053fa175869480923f\n",
       "6       57956d053fa1758694809240\n",
       "7       57956d053fa1758694809241\n",
       "8       57956d053fa1758694809242\n",
       "9       57956d053fa1758694809243\n",
       "10      57956d053fa1758694809244\n",
       "11      57956d053fa1758694809245\n",
       "12      57956d053fa1758694809246\n",
       "13      57956d053fa1758694809247\n",
       "14      57956d053fa1758694809248\n",
       "15      57956d053fa1758694809249\n",
       "16      57956d053fa175869480924a\n",
       "17      57956d053fa175869480924b\n",
       "18      57956d053fa175869480924c\n",
       "19      57956d053fa175869480924d\n",
       "20      57956d053fa175869480924e\n",
       "21      57956d053fa175869480924f\n",
       "22      57956d053fa1758694809250\n",
       "23      57956d053fa1758694809251\n",
       "24      57956d053fa1758694809252\n",
       "25      57956d053fa1758694809253\n",
       "26      57956d053fa1758694809254\n",
       "27      57956d053fa1758694809255\n",
       "28      57956d053fa1758694809256\n",
       "29      57956d053fa1758694809257\n",
       "                  ...           \n",
       "1557    57956d053fa175869480984f\n",
       "1558    57956d053fa1758694809850\n",
       "1559    57956d053fa1758694809851\n",
       "1560    57956d053fa1758694809852\n",
       "1561    57956d053fa1758694809853\n",
       "1562    57956d053fa1758694809854\n",
       "1563    57956d053fa1758694809855\n",
       "1564    57956d053fa1758694809856\n",
       "1565    57956d053fa1758694809857\n",
       "1566    57956d053fa1758694809858\n",
       "1567    57956d053fa1758694809859\n",
       "1568    57956d053fa175869480985a\n",
       "1569    57956d053fa175869480985b\n",
       "1570    57956d053fa175869480985c\n",
       "1571    57956d053fa175869480985d\n",
       "1572    57956d053fa175869480985e\n",
       "1573    57956d053fa175869480985f\n",
       "1574    57956d053fa1758694809860\n",
       "1575    57956d053fa1758694809861\n",
       "1576    57956d053fa1758694809862\n",
       "1577    57956d053fa1758694809863\n",
       "1578    57956d063fa1758694809864\n",
       "1579    57956d063fa1758694809865\n",
       "1580    57956d063fa1758694809866\n",
       "1581    57956d063fa1758694809867\n",
       "1582    57956d063fa1758694809868\n",
       "1583    57956d063fa1758694809869\n",
       "1584    57956d063fa175869480986a\n",
       "1585    57956d063fa175869480986b\n",
       "1586    57956d063fa175869480986c\n",
       "Name: _id, dtype: object"
      ]
     },
     "metadata": {},
     "output_type": "display_data"
    }
   ],
   "source": [
    "display(data._id)"
   ]
  },
  {
   "cell_type": "code",
   "execution_count": 26,
   "metadata": {
    "collapsed": false
   },
   "outputs": [],
   "source": [
    "cluster_data = data.drop(\"_id\",axis=1)\n",
    "clusterer = KMeans(n_clusters = 100, random_state=random_seed).fit(cluster_data)"
   ]
  },
  {
   "cell_type": "code",
   "execution_count": null,
   "metadata": {
    "collapsed": false
   },
   "outputs": [],
   "source": [
    "search = cluster_data.loc[10].reshape(1,-1)\n",
    "print search\n",
    "clusterer.predict(search)"
   ]
  },
  {
   "cell_type": "code",
   "execution_count": 7,
   "metadata": {
    "collapsed": true
   },
   "outputs": [],
   "source": [
    "db_client.close()"
   ]
  },
  {
   "cell_type": "code",
   "execution_count": null,
   "metadata": {
    "collapsed": false,
    "scrolled": true
   },
   "outputs": [],
   "source": [
    "labels = clusterer.labels_\n",
    "print len(labels)\n",
    "print labels\n",
    "print labels[10]"
   ]
  },
  {
   "cell_type": "code",
   "execution_count": null,
   "metadata": {
    "collapsed": true
   },
   "outputs": [],
   "source": []
  }
 ],
 "metadata": {
  "kernelspec": {
   "display_name": "Python 2",
   "language": "python",
   "name": "python2"
  },
  "language_info": {
   "codemirror_mode": {
    "name": "ipython",
    "version": 2
   },
   "file_extension": ".py",
   "mimetype": "text/x-python",
   "name": "python",
   "nbconvert_exporter": "python",
   "pygments_lexer": "ipython2",
   "version": "2.7.12"
  }
 },
 "nbformat": 4,
 "nbformat_minor": 0
}
