{
 "cells": [
  {
   "cell_type": "code",
   "execution_count": null,
   "metadata": {
    "collapsed": true
   },
   "outputs": [],
   "source": [
    "# Imports \n",
    "from glob import glob\n",
    "import os\n",
    "from joblib import Parallel, delayed\n",
    "\n",
    "import numpy as np\n",
    "import gensim\n",
    "import nltk\n",
    "\n",
    "from lib.WordVectors import language_filter\n",
    "from settings import project_root"
   ]
  },
  {
   "cell_type": "markdown",
   "metadata": {},
   "source": [
    "## Data Exploration and Analysis"
   ]
  },
  {
   "cell_type": "code",
   "execution_count": null,
   "metadata": {
    "collapsed": false
   },
   "outputs": [],
   "source": [
    "# create a numpy array containing the absolute paths names of the input files.\n",
    "rawfiles = os.path.join(project_root, 'tmp', 'test_files', '*')\n",
    "file_array = np.array(glob(rawfiles))\n",
    "print('Number of files: {}'.format(file_array.shape[0]))"
   ]
  },
  {
   "cell_type": "code",
   "execution_count": null,
   "metadata": {
    "collapsed": false
   },
   "outputs": [],
   "source": [
    "# Print out a few sample texts for verification.\n",
    "samples = np.random.choice(file_array, 10, replace=False)\n",
    "for sam in samples:\n",
    "    print (open (sam, 'r').read())"
   ]
  },
  {
   "cell_type": "code",
   "execution_count": null,
   "metadata": {
    "collapsed": false
   },
   "outputs": [],
   "source": [
    "def mean_file_length():\n",
    "    lengths = []\n",
    "    samples = np.random.choice(file_array, 100, replace=False)\n",
    "    for sam in samples:\n",
    "        lengths.append(len(open (sam, 'r').read()))\n",
    "    lengths = np.array(lengths)\n",
    "    return lengths.mean()"
   ]
  },
  {
   "cell_type": "code",
   "execution_count": null,
   "metadata": {
    "collapsed": true
   },
   "outputs": [],
   "source": [
    "mean_lens = []\n",
    "for i in range(100):\n",
    "    mean_lens.append(mean_file_length())\n",
    "mean_lens = np.array(mean_lens)"
   ]
  },
  {
   "cell_type": "code",
   "execution_count": null,
   "metadata": {
    "collapsed": false
   },
   "outputs": [],
   "source": [
    "print('Approximate Average file length in chars : {}'.format(mean_lens.mean()))"
   ]
  },
  {
   "cell_type": "markdown",
   "metadata": {},
   "source": [
    "## Text Pre-processing"
   ]
  },
  {
   "cell_type": "code",
   "execution_count": null,
   "metadata": {
    "collapsed": false
   },
   "outputs": [],
   "source": [
    "# Use stop words to identify the language as English and filter texts based on that.\n",
    "eng_filter = Parallel(n_jobs=8)(delayed(language_filter.is_english_nltk)(open(doc).read()) for doc in file_array)\n",
    "non_english = file_array[~np.array(eng_filter)]"
   ]
  },
  {
   "cell_type": "code",
   "execution_count": null,
   "metadata": {
    "collapsed": true
   },
   "outputs": [],
   "source": [
    "print('Number of non-english files : {}'.format(non_english.shape[0]))"
   ]
  },
  {
   "cell_type": "code",
   "execution_count": null,
   "metadata": {
    "collapsed": true
   },
   "outputs": [],
   "source": [
    "# verify if the texts are identified as non-english correctly\n",
    "non_samples = np.random.choice(non_english, 10, replace=False)\n",
    "for sam in non_samples:\n",
    "    print (open (sam, 'r').read())"
   ]
  },
  {
   "cell_type": "code",
   "execution_count": null,
   "metadata": {
    "collapsed": true
   },
   "outputs": [],
   "source": [
    "# Iteratively remove non_english texts\n",
    "for item in non_english:\n",
    "    os.remove(item)"
   ]
  },
  {
   "cell_type": "code",
   "execution_count": null,
   "metadata": {
    "collapsed": false
   },
   "outputs": [],
   "source": [
    "# File list after filtering out non-english texts\n",
    "file_array = np.array(glob(rawfiles))\n",
    "print('Number of files left after filtering out the non-english-texts: {}'.format(file_array.shape[0]))"
   ]
  },
  {
   "cell_type": "code",
   "execution_count": null,
   "metadata": {
    "collapsed": false
   },
   "outputs": [],
   "source": [
    "# Print out a few sample texts for verification.\n",
    "samples = np.random.choice(file_array, 10, replace=False)\n",
    "for sam in samples:\n",
    "    print (open (sam, 'r').read())"
   ]
  },
  {
   "cell_type": "code",
   "execution_count": null,
   "metadata": {
    "collapsed": false
   },
   "outputs": [],
   "source": [
    "sample = open(samples[0],'r').read()"
   ]
  },
  {
   "cell_type": "markdown",
   "metadata": {},
   "source": [
    "### Tokenizing Text"
   ]
  },
  {
   "cell_type": "code",
   "execution_count": null,
   "metadata": {
    "collapsed": false
   },
   "outputs": [],
   "source": [
    "%%timeit\n",
    "tokened_sample_1 = gensim.utils.tokenize(sample,lowercase=False, deacc=False, errors='strict')"
   ]
  },
  {
   "cell_type": "code",
   "execution_count": null,
   "metadata": {
    "collapsed": false
   },
   "outputs": [],
   "source": [
    "tokened_sample_1 = gensim.utils.tokenize(sample,lowercase=False, deacc=False, errors='strict')\n",
    "print([token for token in tokened_sample_1])"
   ]
  },
  {
   "cell_type": "code",
   "execution_count": null,
   "metadata": {
    "collapsed": false
   },
   "outputs": [],
   "source": [
    "%%timeit\n",
    "tokened_sample_2 = gensim.utils.tokenize(sample,lowercase=True, deacc=True, errors='strict')"
   ]
  },
  {
   "cell_type": "code",
   "execution_count": null,
   "metadata": {
    "collapsed": false
   },
   "outputs": [],
   "source": [
    "tokened_sample_2 = gensim.utils.tokenize(sample,lowercase=True, deacc=True, errors='strict')\n",
    "print([token for token in tokened_sample_2])"
   ]
  },
  {
   "cell_type": "markdown",
   "metadata": {},
   "source": [
    "### Stemming"
   ]
  },
  {
   "cell_type": "code",
   "execution_count": null,
   "metadata": {
    "collapsed": false
   },
   "outputs": [],
   "source": [
    "%%timeit\n",
    "tokened_sample_2 = gensim.utils.tokenize(sample,lowercase=True, deacc=True, errors='strict')\n",
    "stemmer = gensim.parsing.porter.PorterStemmer()\n",
    "stemmed_sample = (stemmer.stem(token) for token in tokened_sample_2)"
   ]
  },
  {
   "cell_type": "code",
   "execution_count": null,
   "metadata": {
    "collapsed": false
   },
   "outputs": [],
   "source": [
    "tokened_sample_2 = gensim.utils.tokenize(sample,lowercase=True, deacc=True, errors='strict')\n",
    "stemmed_sample = (stemmer.stem(token) for token in tokened_sample_2)\n",
    "print([st for st in stemmed_sample])"
   ]
  },
  {
   "cell_type": "markdown",
   "metadata": {},
   "source": [
    "### Lemmatization"
   ]
  },
  {
   "cell_type": "code",
   "execution_count": null,
   "metadata": {
    "collapsed": false
   },
   "outputs": [],
   "source": [
    "%%timeit\n",
    "lemmatized = gensim.utils.lemmatize(sample)"
   ]
  },
  {
   "cell_type": "code",
   "execution_count": null,
   "metadata": {
    "collapsed": false
   },
   "outputs": [],
   "source": [
    "lemmatized = gensim.utils.lemmatize(sample)\n",
    "print(lemmatized)"
   ]
  },
  {
   "cell_type": "markdown",
   "metadata": {},
   "source": [
    "### Stop word Removal"
   ]
  },
  {
   "cell_type": "code",
   "execution_count": null,
   "metadata": {
    "collapsed": false
   },
   "outputs": [],
   "source": [
    "stop_words = set(nltk.corpus.stopwords.words('english'))\n",
    "print (stop_words)"
   ]
  },
  {
   "cell_type": "code",
   "execution_count": null,
   "metadata": {
    "collapsed": false
   },
   "outputs": [],
   "source": [
    "%%timeit\n",
    "stop_words = set(nltk.corpus.stopwords.words('english'))\n",
    "tokened_sample_2 = gensim.utils.tokenize(sample,lowercase=True, deacc=True, errors='strict')\n",
    "non_stops = [token for token in tokened_sample_2 if token not in stop_words]\n",
    "stemmed_sample = [stemmer.stem(token) for token in non_stops]"
   ]
  },
  {
   "cell_type": "code",
   "execution_count": null,
   "metadata": {
    "collapsed": false
   },
   "outputs": [],
   "source": [
    "print[stemmed_sample]"
   ]
  },
  {
   "cell_type": "markdown",
   "metadata": {},
   "source": [
    "### Gensim Pre-Processing"
   ]
  },
  {
   "cell_type": "code",
   "execution_count": null,
   "metadata": {
    "collapsed": false
   },
   "outputs": [],
   "source": [
    "%%timeit\n",
    "gensim.parsing.preprocess_string(sample)"
   ]
  },
  {
   "cell_type": "code",
   "execution_count": null,
   "metadata": {
    "collapsed": false
   },
   "outputs": [],
   "source": [
    "preprocessed = gensim.parsing.preprocess_string(sample)\n",
    "print(preprocessed)"
   ]
  },
  {
   "cell_type": "code",
   "execution_count": null,
   "metadata": {
    "collapsed": true
   },
   "outputs": [],
   "source": []
  }
 ],
 "metadata": {
  "kernelspec": {
   "display_name": "Python 2",
   "language": "python",
   "name": "python2"
  },
  "language_info": {
   "codemirror_mode": {
    "name": "ipython",
    "version": 2
   },
   "file_extension": ".py",
   "mimetype": "text/x-python",
   "name": "python",
   "nbconvert_exporter": "python",
   "pygments_lexer": "ipython2",
   "version": "2.7.12"
  }
 },
 "nbformat": 4,
 "nbformat_minor": 0
}
