{
 "cells": [
  {
   "cell_type": "code",
   "execution_count": null,
   "metadata": {
    "collapsed": true
   },
   "outputs": [],
   "source": [
    "# Imports \n",
    "from glob import glob\n",
    "import os\n",
    "import numpy as np\n",
    "from joblib import Parallel, delayed\n",
    "\n",
    "\n",
    "from lib.WordVectors import language_filter\n",
    "from settings import project_root\n",
    "from lib.topic_models import "
   ]
  },
  {
   "cell_type": "code",
   "execution_count": null,
   "metadata": {
    "collapsed": false
   },
   "outputs": [],
   "source": [
    "# create a numpy array containing the absolute paths names of the input files.\n",
    "rawfiles = os.path.join(project_root, 'tmp', 'test_files', '*')\n",
    "file_array = np.array(glob(rawfiles))"
   ]
  },
  {
   "cell_type": "code",
   "execution_count": null,
   "metadata": {
    "collapsed": false
   },
   "outputs": [],
   "source": [
    "# Print out a few sample texts for verification.\n",
    "sample = np.random.choice(file_array, 10, replace=False)\n",
    "for sam in sample:\n",
    "    print (open (sam, 'r').read())"
   ]
  },
  {
   "cell_type": "code",
   "execution_count": null,
   "metadata": {
    "collapsed": false
   },
   "outputs": [],
   "source": [
    "# Use stop words to indentify the language as English and filter texts based on that.\n",
    "eng_filter = Parallel(n_jobs=8)(delayed(language_filter.is_english_nltk)(open(doc).read()) for doc in file_array)\n",
    "non_english = file_array[~np.array(eng_filter)]\n",
    "for item in non_english:\n",
    "    os.remove(item)"
   ]
  },
  {
   "cell_type": "code",
   "execution_count": null,
   "metadata": {
    "collapsed": true
   },
   "outputs": [],
   "source": [
    "#files after removal\n",
    "file_array = np.array(glob(rawfiles))"
   ]
  },
  {
   "cell_type": "code",
   "execution_count": null,
   "metadata": {
    "collapsed": true
   },
   "outputs": [],
   "source": []
  }
 ],
 "metadata": {
  "kernelspec": {
   "display_name": "Python 2",
   "language": "python",
   "name": "python2"
  },
  "language_info": {
   "codemirror_mode": {
    "name": "ipython",
    "version": 2
   },
   "file_extension": ".py",
   "mimetype": "text/x-python",
   "name": "python",
   "nbconvert_exporter": "python",
   "pygments_lexer": "ipython2",
   "version": "2.7.12"
  }
 },
 "nbformat": 4,
 "nbformat_minor": 0
}
