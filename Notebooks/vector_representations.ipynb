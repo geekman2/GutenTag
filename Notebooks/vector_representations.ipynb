{
 "cells": [
  {
   "cell_type": "markdown",
   "metadata": {},
   "source": [
    "# Implementation"
   ]
  },
  {
   "cell_type": "markdown",
   "metadata": {},
   "source": [
    "## Bag-Of-Words"
   ]
  },
  {
   "cell_type": "code",
   "execution_count": 1,
   "metadata": {
    "collapsed": true
   },
   "outputs": [],
   "source": [
    "from glob import glob\n",
    "import os\n",
    "\n",
    "import numpy as np\n",
    "import gensim\n",
    "import nltk\n",
    "\n",
    "from settings import project_root\n",
    "from lib.topic_models import vector_models"
   ]
  },
  {
   "cell_type": "code",
   "execution_count": 2,
   "metadata": {
    "collapsed": true
   },
   "outputs": [],
   "source": [
    "# For debugging\n",
    "import logging\n",
    "\n",
    "logger = logging.getLogger('text_similar')\n",
    "logging.basicConfig(format='%(asctime)s : %(levelname)s : %(message)s',\n",
    "                    level=logging.INFO)\n"
   ]
  },
  {
   "cell_type": "code",
   "execution_count": 3,
   "metadata": {
    "collapsed": false
   },
   "outputs": [],
   "source": [
    "cwd = project_root\n",
    "\n",
    "data_folder = os.path.join(cwd, 'tmp', 'testFiles', '*')\n",
    "\n",
    "tmp_folder = os.path.join(cwd, 'tmp', 'modeldir')"
   ]
  },
  {
   "cell_type": "code",
   "execution_count": 4,
   "metadata": {
    "collapsed": true
   },
   "outputs": [],
   "source": [
    "vectors = vector_models.VectorModels(data_folder, tmp_folder)\n",
    "\n",
    "corpus, dictionary = vectors.load_corpus()"
   ]
  },
  {
   "cell_type": "code",
   "execution_count": 15,
   "metadata": {
    "collapsed": false
   },
   "outputs": [],
   "source": [
    "npcorpus = gensim.matutils.corpus2dense(corpus=corpus, num_terms=len(dictionary), num_docs=len(corpus))"
   ]
  },
  {
   "cell_type": "code",
   "execution_count": 16,
   "metadata": {
    "collapsed": false
   },
   "outputs": [
    {
     "data": {
      "text/plain": [
       "(19792, 10001)"
      ]
     },
     "execution_count": 16,
     "metadata": {},
     "output_type": "execute_result"
    }
   ],
   "source": [
    "npcorpus.shape"
   ]
  },
  {
   "cell_type": "code",
   "execution_count": 7,
   "metadata": {
    "collapsed": true
   },
   "outputs": [],
   "source": [
    "npcorpus = np.delete(npcorpus,1,axis=1)"
   ]
  },
  {
   "cell_type": "code",
   "execution_count": 9,
   "metadata": {
    "collapsed": false
   },
   "outputs": [],
   "source": [
    "npcorpus = npcorpus.T"
   ]
  },
  {
   "cell_type": "code",
   "execution_count": 16,
   "metadata": {
    "collapsed": false
   },
   "outputs": [],
   "source": [
    "from sklearn.cluster import MiniBatchKMeans"
   ]
  },
  {
   "cell_type": "code",
   "execution_count": 14,
   "metadata": {
    "collapsed": false
   },
   "outputs": [],
   "source": [
    "k_means = MiniBatchKMeans(n_clusters=3)\n",
    "for item in np.array_split(npcorpus,100, axis=0):\n",
    "    k_means.partial_fit(item)"
   ]
  },
  {
   "cell_type": "code",
   "execution_count": 24,
   "metadata": {
    "collapsed": false
   },
   "outputs": [],
   "source": [
    "labels = k_means.predict(npcorpus.T)"
   ]
  },
  {
   "cell_type": "code",
   "execution_count": 25,
   "metadata": {
    "collapsed": false
   },
   "outputs": [
    {
     "name": "stdout",
     "output_type": "stream",
     "text": [
      "(10001,)\n"
     ]
    }
   ],
   "source": [
    "print labels.shape"
   ]
  },
  {
   "cell_type": "code",
   "execution_count": 17,
   "metadata": {
    "collapsed": false,
    "scrolled": false
   },
   "outputs": [],
   "source": [
    "# Initialization\n",
    "k_means = MiniBatchKMeans(n_clusters=3)\n",
    "c_size = 1000\n",
    "\n",
    "# Training\n",
    "for item in gensim.utils.chunkize(corpus, chunksize=c_size, maxsize=3):\n",
    "    npchunk = gensim.matutils.corpus2dense(corpus=item, num_terms=len(dictionary), num_docs=len(item))\n",
    "    if npchunk.shape[1] == c_size:\n",
    "        k_means.partial_fit(npchunk.T)\n",
    "    else:\n",
    "        continue\n",
    "\n",
    "# Prediction\n",
    "labels = np.array([])\n",
    "for item in gensim.utils.chunkize(corpus, chunksize=c_size, maxsize=3):\n",
    "    npchunk = gensim.matutils.corpus2dense(corpus=item, num_terms=len(dictionary), num_docs=len(item))\n",
    "    labels = np.concatenate((labels,k_means.predict(npchunk.T)))"
   ]
  },
  {
   "cell_type": "code",
   "execution_count": 27,
   "metadata": {
    "collapsed": false
   },
   "outputs": [],
   "source": [
    "labels = np.array([])\n",
    "for item in gensim.utils.chunkize(corpus, chunksize=c_size, maxsize=3):\n",
    "    npchunk = gensim.matutils.corpus2dense(corpus=item, num_terms=len(dictionary), num_docs=len(item))\n",
    "    labels = np.concatenate((labels,k_means.predict(npchunk.T)))"
   ]
  },
  {
   "cell_type": "code",
   "execution_count": 29,
   "metadata": {
    "collapsed": false
   },
   "outputs": [
    {
     "name": "stdout",
     "output_type": "stream",
     "text": [
      "[ 0.  2.  2. ...,  2.  2.  2.]\n"
     ]
    }
   ],
   "source": [
    "print labels"
   ]
  },
  {
   "cell_type": "code",
   "execution_count": null,
   "metadata": {
    "collapsed": true
   },
   "outputs": [],
   "source": []
  }
 ],
 "metadata": {
  "kernelspec": {
   "display_name": "Python 2",
   "language": "python",
   "name": "python2"
  },
  "language_info": {
   "codemirror_mode": {
    "name": "ipython",
    "version": 2
   },
   "file_extension": ".py",
   "mimetype": "text/x-python",
   "name": "python",
   "nbconvert_exporter": "python",
   "pygments_lexer": "ipython2",
   "version": "2.7.12"
  }
 },
 "nbformat": 4,
 "nbformat_minor": 0
}
