{
 "cells": [
  {
   "cell_type": "markdown",
   "metadata": {},
   "source": [
    "# Implementation"
   ]
  },
  {
   "cell_type": "markdown",
   "metadata": {},
   "source": [
    "## Bag-Of-Words"
   ]
  },
  {
   "cell_type": "code",
   "execution_count": null,
   "metadata": {
    "collapsed": true
   },
   "outputs": [],
   "source": [
    "from glob import glob\n",
    "import os\n",
    "\n",
    "import numpy as np\n",
    "import gensim\n",
    "import nltk\n",
    "\n",
    "from settings import project_root\n",
    "from lib.topic_models import vector_models"
   ]
  },
  {
   "cell_type": "code",
   "execution_count": null,
   "metadata": {
    "collapsed": true
   },
   "outputs": [],
   "source": [
    "cwd = settings.project_root\n",
    "\n",
    "data_folder = os.path.join(cwd, 'tmp', 'test_files', '*')\n",
    "tmp_folder = os.path.join(cwd, 'tmp', 'modeldir')\n",
    "\n",
    "vectors = VectorModels(data_folder, tmp_folder)\n",
    "corpus, dictionary = vectors.load_corpus()\n",
    "\n",
    "corpus_time = round(stop_corpus - start_corpus, 3)"
   ]
  }
 ],
 "metadata": {
  "kernelspec": {
   "display_name": "Python 2",
   "language": "python",
   "name": "python2"
  },
  "language_info": {
   "codemirror_mode": {
    "name": "ipython",
    "version": 2
   },
   "file_extension": ".py",
   "mimetype": "text/x-python",
   "name": "python",
   "nbconvert_exporter": "python",
   "pygments_lexer": "ipython2",
   "version": "2.7.12"
  }
 },
 "nbformat": 4,
 "nbformat_minor": 0
}
